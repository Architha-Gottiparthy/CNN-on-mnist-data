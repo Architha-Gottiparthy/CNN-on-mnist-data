{
  "nbformat": 4,
  "nbformat_minor": 0,
  "metadata": {
    "kernelspec": {
      "name": "python3",
      "display_name": "Python 3"
    },
    "language_info": {
      "codemirror_mode": {
        "name": "ipython",
        "version": 3
      },
      "file_extension": ".py",
      "mimetype": "text/x-python",
      "name": "python",
      "nbconvert_exporter": "python",
      "pygments_lexer": "ipython3",
      "version": "3.7.4"
    },
    "colab": {
      "name": "Copy of CNN on MNIST in Python With Keras.ipynb",
      "provenance": []
    },
    "accelerator": "GPU"
  },
  "cells": [
    {
      "cell_type": "markdown",
      "metadata": {
        "id": "JgQuQ7cp9BnZ",
        "colab_type": "text"
      },
      "source": [
        "## MLP vs CNN"
      ]
    },
    {
      "cell_type": "markdown",
      "metadata": {
        "id": "wbTbKgs99Bni",
        "colab_type": "text"
      },
      "source": [
        "##### Keras model module\n",
        "\n",
        "    Import the Sequential model type from Keras. This is an interface to build a linear stack of neural network layers"
      ]
    },
    {
      "cell_type": "code",
      "metadata": {
        "id": "ibPYiu_D9Bnk",
        "colab_type": "code",
        "outputId": "9d170377-d02a-4e94-9b3e-80887714d28c",
        "colab": {
          "base_uri": "https://localhost:8080/",
          "height": 80
        }
      },
      "source": [
        "from keras.models import Sequential"
      ],
      "execution_count": 0,
      "outputs": [
        {
          "output_type": "stream",
          "text": [
            "Using TensorFlow backend.\n"
          ],
          "name": "stderr"
        },
        {
          "output_type": "display_data",
          "data": {
            "text/html": [
              "<p style=\"color: red;\">\n",
              "The default version of TensorFlow in Colab will soon switch to TensorFlow 2.x.<br>\n",
              "We recommend you <a href=\"https://www.tensorflow.org/guide/migrate\" target=\"_blank\">upgrade</a> now \n",
              "or ensure your notebook will continue to use TensorFlow 1.x via the <code>%tensorflow_version 1.x</code> magic:\n",
              "<a href=\"https://colab.research.google.com/notebooks/tensorflow_version.ipynb\" target=\"_blank\">more info</a>.</p>\n"
            ],
            "text/plain": [
              "<IPython.core.display.HTML object>"
            ]
          },
          "metadata": {
            "tags": []
          }
        }
      ]
    },
    {
      "cell_type": "markdown",
      "metadata": {
        "id": "RfGFuW109Bny",
        "colab_type": "text"
      },
      "source": [
        "##### Keras core layers\n",
        "    \n",
        "    Import the \"core\" layers from Keras. These are the layers that are used in almost any neural network:"
      ]
    },
    {
      "cell_type": "code",
      "metadata": {
        "id": "2_gQhghr9Bnz",
        "colab_type": "code",
        "colab": {}
      },
      "source": [
        "from keras.layers import core"
      ],
      "execution_count": 0,
      "outputs": []
    },
    {
      "cell_type": "markdown",
      "metadata": {
        "id": "gDkU0fsY9BoL",
        "colab_type": "text"
      },
      "source": [
        "##### Keras CNN layers\n",
        "\n",
        "     Import the CNN layers from Keras. These are the convolutional layers that will help us efficiently train on image data:"
      ]
    },
    {
      "cell_type": "code",
      "metadata": {
        "id": "hvPDnyeh9BoU",
        "colab_type": "code",
        "colab": {}
      },
      "source": [
        "from keras.layers import convolutional, pooling"
      ],
      "execution_count": 0,
      "outputs": []
    },
    {
      "cell_type": "markdown",
      "metadata": {
        "id": "2QZj-p5s9Bog",
        "colab_type": "text"
      },
      "source": [
        "#### Load image data from MNIST.\n",
        "\n",
        "    MNIST database of handwritten digits\n",
        "\n",
        "    Dataset of 60,000 28x28 grayscale images of the 10 digits, along with a test set of 10,000 images."
      ]
    },
    {
      "cell_type": "code",
      "metadata": {
        "id": "36lAA6O69Boh",
        "colab_type": "code",
        "outputId": "574d7770-1a6b-4569-d8f4-ee313b7c03c2",
        "colab": {
          "base_uri": "https://localhost:8080/",
          "height": 153
        }
      },
      "source": [
        "from keras.datasets import fashion_mnist\n",
        " \n",
        "# Load pre-shuffled MNIST data into train and test sets\n",
        "(X_train, y_train), (X_test, y_test) = fashion_mnist.load_data()"
      ],
      "execution_count": 0,
      "outputs": [
        {
          "output_type": "stream",
          "text": [
            "Downloading data from http://fashion-mnist.s3-website.eu-central-1.amazonaws.com/train-labels-idx1-ubyte.gz\n",
            "32768/29515 [=================================] - 0s 8us/step\n",
            "Downloading data from http://fashion-mnist.s3-website.eu-central-1.amazonaws.com/train-images-idx3-ubyte.gz\n",
            "26427392/26421880 [==============================] - 4s 0us/step\n",
            "Downloading data from http://fashion-mnist.s3-website.eu-central-1.amazonaws.com/t10k-labels-idx1-ubyte.gz\n",
            "8192/5148 [===============================================] - 0s 0us/step\n",
            "Downloading data from http://fashion-mnist.s3-website.eu-central-1.amazonaws.com/t10k-images-idx3-ubyte.gz\n",
            "4423680/4422102 [==============================] - 2s 0us/step\n"
          ],
          "name": "stdout"
        }
      ]
    },
    {
      "cell_type": "markdown",
      "metadata": {
        "id": "QymDqpGS9Bom",
        "colab_type": "text"
      },
      "source": [
        "Returns:\n",
        "\n",
        "    2 tuples:\n",
        "            x_train, x_test: uint8 array of grayscale image data with shape (num_samples, 28, 28).\n",
        "            y_train, y_test: uint8 array of digit labels (integers in range 0-9) with shape (num_samples,).\n",
        "\n",
        "Arguments:\n",
        "\n",
        "    path: if you do not have the index file locally (at '~/.keras/datasets/' + path), it will be downloaded to this location.\n"
      ]
    },
    {
      "cell_type": "markdown",
      "metadata": {
        "id": "YpkQmkv29Bor",
        "colab_type": "text"
      },
      "source": [
        "Look at the shape of the dataset:"
      ]
    },
    {
      "cell_type": "code",
      "metadata": {
        "id": "HuSgqKzM9Bo8",
        "colab_type": "code",
        "outputId": "ab8080c0-0961-4f24-eff1-71590ee16b4e",
        "colab": {
          "base_uri": "https://localhost:8080/",
          "height": 34
        }
      },
      "source": [
        "print (X_train.shape, y_train.shape, X_test.shape, y_test.shape)"
      ],
      "execution_count": 0,
      "outputs": [
        {
          "output_type": "stream",
          "text": [
            "(60000, 28, 28) (60000,) (10000, 28, 28) (10000,)\n"
          ],
          "name": "stdout"
        }
      ]
    },
    {
      "cell_type": "markdown",
      "metadata": {
        "id": "ZQBheJRs9BpD",
        "colab_type": "text"
      },
      "source": [
        "## MLP for MNIST Digit Recognition"
      ]
    },
    {
      "cell_type": "markdown",
      "metadata": {
        "id": "HbSa0xGY9BpE",
        "colab_type": "text"
      },
      "source": [
        "### Prepare MNIST Data for MLP"
      ]
    },
    {
      "cell_type": "markdown",
      "metadata": {
        "id": "ACqrsB6N9BpG",
        "colab_type": "text"
      },
      "source": [
        "Convert our data type to float32 and normalize our data values to the range [0, 1]\n",
        "\n",
        "Note: Max value X_train/X_test can take is 255, so it is divided by 255"
      ]
    },
    {
      "cell_type": "code",
      "metadata": {
        "id": "W2bCRysj9BpH",
        "colab_type": "code",
        "colab": {}
      },
      "source": [
        "X_train = X_train.astype('float32')\n",
        "X_test = X_test.astype('float32')\n",
        "X_train /= 255\n",
        "X_test /= 255"
      ],
      "execution_count": 0,
      "outputs": []
    },
    {
      "cell_type": "markdown",
      "metadata": {
        "id": "bIv9g7OT9Bpl",
        "colab_type": "text"
      },
      "source": [
        "#### Preprocess class labels for Keras"
      ]
    },
    {
      "cell_type": "markdown",
      "metadata": {
        "id": "uEtZDioA9Bpm",
        "colab_type": "text"
      },
      "source": [
        "Look at the shape of our class label data"
      ]
    },
    {
      "cell_type": "code",
      "metadata": {
        "id": "rcDEpI2y9Bpn",
        "colab_type": "code",
        "outputId": "fc76a06f-7673-412f-9938-7aa9f3820afc",
        "colab": {
          "base_uri": "https://localhost:8080/"
        }
      },
      "source": [
        "print (y_train.shape)"
      ],
      "execution_count": 0,
      "outputs": [
        {
          "output_type": "stream",
          "text": [
            "(60000,)\n"
          ],
          "name": "stdout"
        }
      ]
    },
    {
      "cell_type": "markdown",
      "metadata": {
        "id": "rfK58AX19Bpw",
        "colab_type": "text"
      },
      "source": [
        "We should have 10 different classes, one for each digit, but it looks like we only have a 1-dimensional array."
      ]
    },
    {
      "cell_type": "code",
      "metadata": {
        "id": "6YhJJXJh9Bpx",
        "colab_type": "code",
        "outputId": "46dd50a9-c196-4d94-b61d-dbb7b474fe10",
        "colab": {
          "base_uri": "https://localhost:8080/"
        }
      },
      "source": [
        "print (y_train[:10])"
      ],
      "execution_count": 0,
      "outputs": [
        {
          "output_type": "stream",
          "text": [
            "[9 0 0 3 0 2 7 2 5 5]\n"
          ],
          "name": "stdout"
        }
      ]
    },
    {
      "cell_type": "markdown",
      "metadata": {
        "collapsed": true,
        "id": "RpdMzxQt9Bpz",
        "colab_type": "text"
      },
      "source": [
        "##### Convert 1-dimensional class arrays to 10-dimensional class matrices"
      ]
    },
    {
      "cell_type": "code",
      "metadata": {
        "id": "GenFtct-9Bp0",
        "colab_type": "code",
        "colab": {}
      },
      "source": [
        "from keras.utils import to_categorical"
      ],
      "execution_count": 0,
      "outputs": []
    },
    {
      "cell_type": "code",
      "metadata": {
        "id": "-zFIBzx29Bp3",
        "colab_type": "code",
        "colab": {}
      },
      "source": [
        "Y_train = to_categorical(y_train, 10)\n",
        "Y_test = to_categorical(y_test, 10)"
      ],
      "execution_count": 0,
      "outputs": []
    },
    {
      "cell_type": "markdown",
      "metadata": {
        "id": "TnxRpvv49Bp6",
        "colab_type": "text"
      },
      "source": [
        "Take another look:"
      ]
    },
    {
      "cell_type": "code",
      "metadata": {
        "id": "4L57mamG9Bp8",
        "colab_type": "code",
        "outputId": "acbafa56-ac8f-499e-fea5-866272a6e535",
        "colab": {
          "base_uri": "https://localhost:8080/"
        }
      },
      "source": [
        "print (Y_train.shape)"
      ],
      "execution_count": 0,
      "outputs": [
        {
          "output_type": "stream",
          "text": [
            "(60000, 10)\n"
          ],
          "name": "stdout"
        }
      ]
    },
    {
      "cell_type": "code",
      "metadata": {
        "id": "iP0v2Ty19BqB",
        "colab_type": "code",
        "outputId": "461cb1c3-9aa0-49b5-f97d-83dde5e38cec",
        "colab": {
          "base_uri": "https://localhost:8080/"
        }
      },
      "source": [
        "print (Y_train)"
      ],
      "execution_count": 0,
      "outputs": [
        {
          "output_type": "stream",
          "text": [
            "[[0. 0. 0. ... 0. 0. 1.]\n",
            " [1. 0. 0. ... 0. 0. 0.]\n",
            " [1. 0. 0. ... 0. 0. 0.]\n",
            " ...\n",
            " [0. 0. 0. ... 0. 0. 0.]\n",
            " [1. 0. 0. ... 0. 0. 0.]\n",
            " [0. 0. 0. ... 0. 0. 0.]]\n"
          ],
          "name": "stdout"
        }
      ]
    },
    {
      "cell_type": "code",
      "metadata": {
        "id": "5n4hhLTb9BqE",
        "colab_type": "code",
        "colab": {}
      },
      "source": [
        "# Same number of samples, but flatten the 28, 28 to 28*28 (784)\n",
        "\n",
        "X_train_mlp = X_train.reshape(X_train.shape[0], X_train.shape[1] * X_train.shape[2])\n",
        "\n",
        "X_test_mlp = X_test.reshape(X_test.shape[0], X_test.shape[1] * X_test.shape[2])\n"
      ],
      "execution_count": 0,
      "outputs": []
    },
    {
      "cell_type": "code",
      "metadata": {
        "id": "tovPyiy09BqG",
        "colab_type": "code",
        "outputId": "ca36885e-e3c6-4340-dac2-de87edf96cac",
        "colab": {
          "base_uri": "https://localhost:8080/"
        }
      },
      "source": [
        "print (X_train_mlp.shape, y_train.shape, X_test.shape, y_test.shape)"
      ],
      "execution_count": 0,
      "outputs": [
        {
          "output_type": "stream",
          "text": [
            "(60000, 784) (60000,) (10000, 28, 28) (10000,)\n"
          ],
          "name": "stdout"
        }
      ]
    },
    {
      "cell_type": "code",
      "metadata": {
        "id": "VuCCSHui9BqJ",
        "colab_type": "code",
        "colab": {}
      },
      "source": [
        "from keras.models import Sequential\n",
        "from keras.layers.core import Activation, Dense, Dropout\n",
        "from keras.layers.normalization import BatchNormalization"
      ],
      "execution_count": 0,
      "outputs": []
    },
    {
      "cell_type": "code",
      "metadata": {
        "id": "rMe1fsSG9BqQ",
        "colab_type": "code",
        "outputId": "637105c0-9736-49f1-9198-02dc6bec663f",
        "colab": {
          "base_uri": "https://localhost:8080/"
        }
      },
      "source": [
        "model = Sequential()\n",
        "model.add(Dense(512, input_shape=(784,)))\n",
        "model.add(Activation(\"relu\"))\n",
        "model.add(Dropout(0.2))\n",
        "model.add(BatchNormalization())\n",
        "model.add(Dense(256))\n",
        "model.add(Activation(\"relu\"))\n",
        "model.add(Dropout(0.2))\n",
        "model.add(BatchNormalization())\n",
        "model.add(Dense(10))\n",
        "model.add(Activation(\"softmax\"))"
      ],
      "execution_count": 0,
      "outputs": [
        {
          "output_type": "stream",
          "text": [
            "WARNING:tensorflow:From /usr/local/lib/python3.6/dist-packages/keras/backend/tensorflow_backend.py:66: The name tf.get_default_graph is deprecated. Please use tf.compat.v1.get_default_graph instead.\n",
            "\n",
            "WARNING:tensorflow:From /usr/local/lib/python3.6/dist-packages/keras/backend/tensorflow_backend.py:541: The name tf.placeholder is deprecated. Please use tf.compat.v1.placeholder instead.\n",
            "\n",
            "WARNING:tensorflow:From /usr/local/lib/python3.6/dist-packages/keras/backend/tensorflow_backend.py:4432: The name tf.random_uniform is deprecated. Please use tf.random.uniform instead.\n",
            "\n",
            "WARNING:tensorflow:From /usr/local/lib/python3.6/dist-packages/keras/backend/tensorflow_backend.py:148: The name tf.placeholder_with_default is deprecated. Please use tf.compat.v1.placeholder_with_default instead.\n",
            "\n",
            "WARNING:tensorflow:From /usr/local/lib/python3.6/dist-packages/keras/backend/tensorflow_backend.py:3733: calling dropout (from tensorflow.python.ops.nn_ops) with keep_prob is deprecated and will be removed in a future version.\n",
            "Instructions for updating:\n",
            "Please use `rate` instead of `keep_prob`. Rate should be set to `rate = 1 - keep_prob`.\n"
          ],
          "name": "stdout"
        }
      ]
    },
    {
      "cell_type": "code",
      "metadata": {
        "id": "DbdB58lu9BqV",
        "colab_type": "code",
        "outputId": "f0aee042-7aec-44e6-d5c5-58d37036fbe6",
        "colab": {
          "base_uri": "https://localhost:8080/"
        }
      },
      "source": [
        "model.summary()"
      ],
      "execution_count": 0,
      "outputs": [
        {
          "output_type": "stream",
          "text": [
            "Model: \"sequential_1\"\n",
            "_________________________________________________________________\n",
            "Layer (type)                 Output Shape              Param #   \n",
            "=================================================================\n",
            "dense_1 (Dense)              (None, 512)               401920    \n",
            "_________________________________________________________________\n",
            "activation_1 (Activation)    (None, 512)               0         \n",
            "_________________________________________________________________\n",
            "dropout_1 (Dropout)          (None, 512)               0         \n",
            "_________________________________________________________________\n",
            "batch_normalization_1 (Batch (None, 512)               2048      \n",
            "_________________________________________________________________\n",
            "dense_2 (Dense)              (None, 256)               131328    \n",
            "_________________________________________________________________\n",
            "activation_2 (Activation)    (None, 256)               0         \n",
            "_________________________________________________________________\n",
            "dropout_2 (Dropout)          (None, 256)               0         \n",
            "_________________________________________________________________\n",
            "batch_normalization_2 (Batch (None, 256)               1024      \n",
            "_________________________________________________________________\n",
            "dense_3 (Dense)              (None, 10)                2570      \n",
            "_________________________________________________________________\n",
            "activation_3 (Activation)    (None, 10)                0         \n",
            "=================================================================\n",
            "Total params: 538,890\n",
            "Trainable params: 537,354\n",
            "Non-trainable params: 1,536\n",
            "_________________________________________________________________\n"
          ],
          "name": "stdout"
        }
      ]
    },
    {
      "cell_type": "code",
      "metadata": {
        "id": "FtT9iWL79BqZ",
        "colab_type": "code",
        "outputId": "171add51-5742-40cc-c2fd-0e91e4aef377",
        "colab": {
          "base_uri": "https://localhost:8080/"
        }
      },
      "source": [
        "model.compile(loss=\"categorical_crossentropy\", optimizer=\"adam\", metrics=[\"accuracy\"])"
      ],
      "execution_count": 0,
      "outputs": [
        {
          "output_type": "stream",
          "text": [
            "WARNING:tensorflow:From /usr/local/lib/python3.6/dist-packages/keras/optimizers.py:793: The name tf.train.Optimizer is deprecated. Please use tf.compat.v1.train.Optimizer instead.\n",
            "\n",
            "WARNING:tensorflow:From /usr/local/lib/python3.6/dist-packages/keras/backend/tensorflow_backend.py:3576: The name tf.log is deprecated. Please use tf.math.log instead.\n",
            "\n"
          ],
          "name": "stdout"
        }
      ]
    },
    {
      "cell_type": "code",
      "metadata": {
        "scrolled": true,
        "id": "PYqgQGfw9Bqc",
        "colab_type": "code",
        "outputId": "3357a5dd-2de1-4323-c5ea-e167ed9c0afb",
        "colab": {
          "base_uri": "https://localhost:8080/"
        }
      },
      "source": [
        "history = model.fit(X_train_mlp, Y_train, validation_split = 0.2,\n",
        "                    batch_size = 48000, epochs = 40)"
      ],
      "execution_count": 0,
      "outputs": [
        {
          "output_type": "stream",
          "text": [
            "WARNING:tensorflow:From /usr/local/lib/python3.6/dist-packages/tensorflow_core/python/ops/math_grad.py:1424: where (from tensorflow.python.ops.array_ops) is deprecated and will be removed in a future version.\n",
            "Instructions for updating:\n",
            "Use tf.where in 2.0, which has the same broadcast rule as np.where\n",
            "WARNING:tensorflow:From /usr/local/lib/python3.6/dist-packages/keras/backend/tensorflow_backend.py:1033: The name tf.assign_add is deprecated. Please use tf.compat.v1.assign_add instead.\n",
            "\n",
            "WARNING:tensorflow:From /usr/local/lib/python3.6/dist-packages/keras/backend/tensorflow_backend.py:1020: The name tf.assign is deprecated. Please use tf.compat.v1.assign instead.\n",
            "\n",
            "WARNING:tensorflow:From /usr/local/lib/python3.6/dist-packages/keras/backend/tensorflow_backend.py:3005: The name tf.Session is deprecated. Please use tf.compat.v1.Session instead.\n",
            "\n",
            "Train on 48000 samples, validate on 12000 samples\n",
            "Epoch 1/40\n",
            "WARNING:tensorflow:From /usr/local/lib/python3.6/dist-packages/keras/backend/tensorflow_backend.py:190: The name tf.get_default_session is deprecated. Please use tf.compat.v1.get_default_session instead.\n",
            "\n",
            "WARNING:tensorflow:From /usr/local/lib/python3.6/dist-packages/keras/backend/tensorflow_backend.py:197: The name tf.ConfigProto is deprecated. Please use tf.compat.v1.ConfigProto instead.\n",
            "\n",
            "WARNING:tensorflow:From /usr/local/lib/python3.6/dist-packages/keras/backend/tensorflow_backend.py:207: The name tf.global_variables is deprecated. Please use tf.compat.v1.global_variables instead.\n",
            "\n",
            "WARNING:tensorflow:From /usr/local/lib/python3.6/dist-packages/keras/backend/tensorflow_backend.py:216: The name tf.is_variable_initialized is deprecated. Please use tf.compat.v1.is_variable_initialized instead.\n",
            "\n",
            "WARNING:tensorflow:From /usr/local/lib/python3.6/dist-packages/keras/backend/tensorflow_backend.py:223: The name tf.variables_initializer is deprecated. Please use tf.compat.v1.variables_initializer instead.\n",
            "\n",
            "48000/48000 [==============================] - 10s 207us/step - loss: 3.1294 - acc: 0.0904 - val_loss: 1.3226 - val_acc: 0.5726\n",
            "Epoch 2/40\n",
            "48000/48000 [==============================] - 0s 4us/step - loss: 1.4681 - acc: 0.5157 - val_loss: 0.9059 - val_acc: 0.6883\n",
            "Epoch 3/40\n",
            "48000/48000 [==============================] - 0s 3us/step - loss: 1.0252 - acc: 0.6576 - val_loss: 0.8494 - val_acc: 0.7132\n",
            "Epoch 4/40\n",
            "48000/48000 [==============================] - 0s 3us/step - loss: 0.8761 - acc: 0.7039 - val_loss: 0.7758 - val_acc: 0.7414\n",
            "Epoch 5/40\n",
            "48000/48000 [==============================] - 0s 3us/step - loss: 0.7828 - acc: 0.7325 - val_loss: 0.6835 - val_acc: 0.7690\n",
            "Epoch 6/40\n",
            "48000/48000 [==============================] - 0s 3us/step - loss: 0.7277 - acc: 0.7496 - val_loss: 0.6180 - val_acc: 0.7895\n",
            "Epoch 7/40\n",
            "48000/48000 [==============================] - 0s 3us/step - loss: 0.6814 - acc: 0.7609 - val_loss: 0.5846 - val_acc: 0.8021\n",
            "Epoch 8/40\n",
            "48000/48000 [==============================] - 0s 3us/step - loss: 0.6560 - acc: 0.7698 - val_loss: 0.5649 - val_acc: 0.8089\n",
            "Epoch 9/40\n",
            "48000/48000 [==============================] - 0s 3us/step - loss: 0.6270 - acc: 0.7787 - val_loss: 0.5495 - val_acc: 0.8135\n",
            "Epoch 10/40\n",
            "48000/48000 [==============================] - 0s 3us/step - loss: 0.6065 - acc: 0.7876 - val_loss: 0.5351 - val_acc: 0.8167\n",
            "Epoch 11/40\n",
            "48000/48000 [==============================] - 0s 3us/step - loss: 0.5841 - acc: 0.7943 - val_loss: 0.5212 - val_acc: 0.8203\n",
            "Epoch 12/40\n",
            "48000/48000 [==============================] - 0s 3us/step - loss: 0.5648 - acc: 0.8006 - val_loss: 0.5071 - val_acc: 0.8251\n",
            "Epoch 13/40\n",
            "48000/48000 [==============================] - 0s 3us/step - loss: 0.5509 - acc: 0.8047 - val_loss: 0.4927 - val_acc: 0.8284\n",
            "Epoch 14/40\n",
            "48000/48000 [==============================] - 0s 3us/step - loss: 0.5367 - acc: 0.8109 - val_loss: 0.4806 - val_acc: 0.8316\n",
            "Epoch 15/40\n",
            "48000/48000 [==============================] - 0s 3us/step - loss: 0.5267 - acc: 0.8131 - val_loss: 0.4708 - val_acc: 0.8338\n",
            "Epoch 16/40\n",
            "48000/48000 [==============================] - 0s 3us/step - loss: 0.5153 - acc: 0.8177 - val_loss: 0.4613 - val_acc: 0.8367\n",
            "Epoch 17/40\n",
            "48000/48000 [==============================] - 0s 3us/step - loss: 0.5035 - acc: 0.8208 - val_loss: 0.4526 - val_acc: 0.8414\n",
            "Epoch 18/40\n",
            "48000/48000 [==============================] - 0s 3us/step - loss: 0.4911 - acc: 0.8270 - val_loss: 0.4463 - val_acc: 0.8412\n",
            "Epoch 19/40\n",
            "48000/48000 [==============================] - 0s 3us/step - loss: 0.4824 - acc: 0.8293 - val_loss: 0.4423 - val_acc: 0.8422\n",
            "Epoch 20/40\n",
            "48000/48000 [==============================] - 0s 3us/step - loss: 0.4746 - acc: 0.8292 - val_loss: 0.4383 - val_acc: 0.8432\n",
            "Epoch 21/40\n",
            "48000/48000 [==============================] - 0s 3us/step - loss: 0.4675 - acc: 0.8330 - val_loss: 0.4332 - val_acc: 0.8449\n",
            "Epoch 22/40\n",
            "48000/48000 [==============================] - 0s 3us/step - loss: 0.4601 - acc: 0.8355 - val_loss: 0.4279 - val_acc: 0.8475\n",
            "Epoch 23/40\n",
            "48000/48000 [==============================] - 0s 3us/step - loss: 0.4556 - acc: 0.8363 - val_loss: 0.4229 - val_acc: 0.8498\n",
            "Epoch 24/40\n",
            "48000/48000 [==============================] - 0s 3us/step - loss: 0.4468 - acc: 0.8401 - val_loss: 0.4188 - val_acc: 0.8510\n",
            "Epoch 25/40\n",
            "48000/48000 [==============================] - 0s 3us/step - loss: 0.4403 - acc: 0.8425 - val_loss: 0.4151 - val_acc: 0.8525\n",
            "Epoch 26/40\n",
            "48000/48000 [==============================] - 0s 3us/step - loss: 0.4353 - acc: 0.8449 - val_loss: 0.4117 - val_acc: 0.8543\n",
            "Epoch 27/40\n",
            "48000/48000 [==============================] - 0s 3us/step - loss: 0.4287 - acc: 0.8474 - val_loss: 0.4092 - val_acc: 0.8538\n",
            "Epoch 28/40\n",
            "48000/48000 [==============================] - 0s 3us/step - loss: 0.4231 - acc: 0.8487 - val_loss: 0.4063 - val_acc: 0.8547\n",
            "Epoch 29/40\n",
            "48000/48000 [==============================] - 0s 3us/step - loss: 0.4186 - acc: 0.8513 - val_loss: 0.4025 - val_acc: 0.8569\n",
            "Epoch 30/40\n",
            "48000/48000 [==============================] - 0s 3us/step - loss: 0.4117 - acc: 0.8530 - val_loss: 0.3980 - val_acc: 0.8577\n",
            "Epoch 31/40\n",
            "48000/48000 [==============================] - 0s 3us/step - loss: 0.4092 - acc: 0.8536 - val_loss: 0.3934 - val_acc: 0.8584\n",
            "Epoch 32/40\n",
            "48000/48000 [==============================] - 0s 3us/step - loss: 0.4071 - acc: 0.8546 - val_loss: 0.3893 - val_acc: 0.8595\n",
            "Epoch 33/40\n",
            "48000/48000 [==============================] - 0s 3us/step - loss: 0.4003 - acc: 0.8572 - val_loss: 0.3858 - val_acc: 0.8618\n",
            "Epoch 34/40\n",
            "48000/48000 [==============================] - 0s 3us/step - loss: 0.3944 - acc: 0.8580 - val_loss: 0.3831 - val_acc: 0.8630\n",
            "Epoch 35/40\n",
            "48000/48000 [==============================] - 0s 3us/step - loss: 0.3907 - acc: 0.8597 - val_loss: 0.3803 - val_acc: 0.8633\n",
            "Epoch 36/40\n",
            "48000/48000 [==============================] - 0s 3us/step - loss: 0.3879 - acc: 0.8607 - val_loss: 0.3772 - val_acc: 0.8643\n",
            "Epoch 37/40\n",
            "48000/48000 [==============================] - 0s 3us/step - loss: 0.3831 - acc: 0.8644 - val_loss: 0.3735 - val_acc: 0.8651\n",
            "Epoch 38/40\n",
            "48000/48000 [==============================] - 0s 3us/step - loss: 0.3773 - acc: 0.8654 - val_loss: 0.3698 - val_acc: 0.8672\n",
            "Epoch 39/40\n",
            "48000/48000 [==============================] - 0s 3us/step - loss: 0.3761 - acc: 0.8652 - val_loss: 0.3672 - val_acc: 0.8679\n",
            "Epoch 40/40\n",
            "48000/48000 [==============================] - 0s 3us/step - loss: 0.3701 - acc: 0.8663 - val_loss: 0.3656 - val_acc: 0.8689\n"
          ],
          "name": "stdout"
        }
      ]
    },
    {
      "cell_type": "code",
      "metadata": {
        "id": "siqQTlSG9Bqj",
        "colab_type": "code",
        "colab": {}
      },
      "source": [
        "import matplotlib.pyplot as plt"
      ],
      "execution_count": 0,
      "outputs": []
    },
    {
      "cell_type": "code",
      "metadata": {
        "id": "ui_Rk2nO9Bqm",
        "colab_type": "code",
        "outputId": "fdfb132d-149f-4706-a185-8e5152ebe37a",
        "colab": {
          "base_uri": "https://localhost:8080/"
        }
      },
      "source": [
        "plt.plot(history.history[\"loss\"])\n",
        "plt.plot(history.history[\"val_loss\"])\n",
        "plt.title(\"Model Loss\")\n",
        "plt.xlabel(\"Epoch\")\n",
        "plt.ylabel(\"Loss\")\n",
        "plt.legend([\"train\", \"validation\"], loc=\"upper left\")\n",
        "plt.show()"
      ],
      "execution_count": 0,
      "outputs": [
        {
          "output_type": "display_data",
          "data": {
            "image/png": "[encoded data removed]",
            "text/plain": [
              "<Figure size 432x288 with 1 Axes>"
            ]
          },
          "metadata": {
            "tags": []
          }
        }
      ]
    },
    {
      "cell_type": "code",
      "metadata": {
        "id": "bQuhSLW89Bqp",
        "colab_type": "code",
        "outputId": "b0879ae9-0614-4653-bcc9-78434742163d",
        "colab": {
          "base_uri": "https://localhost:8080/"
        }
      },
      "source": [
        "plt.plot(history.history[\"acc\"])\n",
        "plt.plot(history.history[\"val_acc\"])\n",
        "plt.title(\"Model Accuracy\")\n",
        "plt.xlabel(\"Epoch\")\n",
        "plt.ylabel(\"Accuracy\")\n",
        "plt.legend([\"train\", \"validation\"], loc=\"upper left\")\n",
        "plt.show()"
      ],
      "execution_count": 0,
      "outputs": [
        {
          "output_type": "display_data",
          "data": {
            "image/png": "[encoded data removed]",
            "text/plain": [
              "<Figure size 432x288 with 1 Axes>"
            ]
          },
          "metadata": {
            "tags": []
          }
        }
      ]
    },
    {
      "cell_type": "code",
      "metadata": {
        "id": "-K7R9QFY9Bqs",
        "colab_type": "code",
        "outputId": "84af3161-ddff-4eb9-f3fb-883b760187fa",
        "colab": {
          "base_uri": "https://localhost:8080/"
        }
      },
      "source": [
        "scores = model.evaluate(X_test_mlp, Y_test, verbose=0)\n",
        "\n",
        "print(\"[INFO] test score - {}\".format(scores[0]))\n",
        "\n",
        "print(\"[INFO] test accuracy - {}\".format(scores[1]))"
      ],
      "execution_count": 0,
      "outputs": [
        {
          "output_type": "stream",
          "text": [
            "[INFO] test score - 0.3945424437046051\n",
            "[INFO] test accuracy - 0.8582\n"
          ],
          "name": "stdout"
        }
      ]
    },
    {
      "cell_type": "markdown",
      "metadata": {
        "id": "pqXPNnes9Bqy",
        "colab_type": "text"
      },
      "source": [
        "# What are CNNs?\n",
        "\n",
        "<br />\n",
        "\n",
        "* How are images represented again?\n",
        "\n",
        "<br />\n",
        "\n",
        "![](img/image_representation.gif)\n",
        "\n",
        "<br />\n",
        "\n",
        "* What is a CNN?\n",
        "\n",
        "![](img/lecun_net.png)\n",
        "\n",
        "<br />\n",
        "\n",
        "* The four main operations in a CNN:\n",
        "\n",
        "    * Convolution\n",
        "    * Non Linearity (ReLU)\n",
        "    * Pooling or Sub Sampling\n",
        "    * Classification (Fully Connected Layer)\n",
        "\n",
        "<br />\n",
        "\n",
        "* Some important convolving operations used in ML based image classifiers, before deep learning\n",
        "\n",
        "<br />\n",
        "\n",
        "![](img/prior_convolving_operations.png)\n"
      ]
    },
    {
      "cell_type": "markdown",
      "metadata": {
        "id": "QaCHdFVR9Bq0",
        "colab_type": "text"
      },
      "source": [
        "## Understanding Convolutions"
      ]
    },
    {
      "cell_type": "markdown",
      "metadata": {
        "id": "TCkUHRct9Bq1",
        "colab_type": "text"
      },
      "source": [
        "![](img/convolutions.gif)"
      ]
    },
    {
      "cell_type": "markdown",
      "metadata": {
        "id": "buEv8gjw9Bq2",
        "colab_type": "text"
      },
      "source": [
        "![](img/convolution_matrix.gif)"
      ]
    },
    {
      "cell_type": "markdown",
      "metadata": {
        "id": "rYshLjvx9Bq3",
        "colab_type": "text"
      },
      "source": [
        "![](img/convolution_real_image.gif)"
      ]
    },
    {
      "cell_type": "markdown",
      "metadata": {
        "id": "41VtIkEH9Bq4",
        "colab_type": "text"
      },
      "source": [
        "### Output Feature Map Dimensions after Convolving"
      ]
    },
    {
      "cell_type": "markdown",
      "metadata": {
        "id": "z0C6W8mI9Bq5",
        "colab_type": "text"
      },
      "source": [
        "![](img/conv_output_feature_map_formula.png)"
      ]
    },
    {
      "cell_type": "markdown",
      "metadata": {
        "id": "C7rU5pzx9Bq6",
        "colab_type": "text"
      },
      "source": [
        "        W - Width of the input feature map\n",
        "        \n",
        "        K - Width of the Kernel / Filter\n",
        "        \n",
        "        P - Padding Layer dimension\n",
        "        \n",
        "        S - Stride"
      ]
    },
    {
      "cell_type": "markdown",
      "metadata": {
        "id": "AQuS1Gq49Bq8",
        "colab_type": "text"
      },
      "source": [
        "### Zero Padding in Keras"
      ]
    },
    {
      "cell_type": "markdown",
      "metadata": {
        "id": "rmaO-T569Bq-",
        "colab_type": "text"
      },
      "source": [
        "  In Keras we have two types of Padding:\n",
        "    \n",
        "      (i) Valid Padding : Any layer that does not fully intersect with the filter is ignored (NO PADDING!)\n",
        "        \n",
        "      (ii) Same Padding : Adds Zero Padding such that the output feature map has similar dimensions to the input                      feature map"
      ]
    },
    {
      "cell_type": "markdown",
      "metadata": {
        "id": "0Jx3V_eP9Bq_",
        "colab_type": "text"
      },
      "source": [
        "![](img/zero_padding.png)"
      ]
    },
    {
      "cell_type": "markdown",
      "metadata": {
        "id": "DLixzYzA9BrC",
        "colab_type": "text"
      },
      "source": [
        "![](img/same_padding.gif)"
      ]
    },
    {
      "cell_type": "markdown",
      "metadata": {
        "id": "iqY4yDWS9BrD",
        "colab_type": "text"
      },
      "source": [
        "## CNN for MNIST Digit Recognition"
      ]
    },
    {
      "cell_type": "markdown",
      "metadata": {
        "id": "IC5miFRy9BrD",
        "colab_type": "text"
      },
      "source": [
        "#### Preprocess input data for Keras"
      ]
    },
    {
      "cell_type": "code",
      "metadata": {
        "id": "EjL4RNDW9BrE",
        "colab_type": "code",
        "outputId": "ba6d9809-500c-41be-b1d2-d5cce50e9244",
        "colab": {
          "base_uri": "https://localhost:8080/",
          "height": 34
        }
      },
      "source": [
        "print (X_train.shape[0])"
      ],
      "execution_count": 0,
      "outputs": [
        {
          "output_type": "stream",
          "text": [
            "60000\n"
          ],
          "name": "stdout"
        }
      ]
    },
    {
      "cell_type": "markdown",
      "metadata": {
        "id": "0fn1AcRg9BrG",
        "colab_type": "text"
      },
      "source": [
        "Reshape input data\n",
        "\n",
        "    When using the tensorflow backend, you must explicitly declare a dimension for the depth of the input image. \n",
        "    E.g. a full-color image with all 3 RGB channels will have a depth of 3.\n",
        "\n",
        "    Our MNIST images only have a depth of 1, but we must explicitly declare that. \n",
        "\n",
        "    In other words, we want to transform our dataset from having shape (n, width, height) to (n, width, height, channel)."
      ]
    },
    {
      "cell_type": "code",
      "metadata": {
        "id": "t_wf35PP9BrH",
        "colab_type": "code",
        "colab": {}
      },
      "source": [
        "X_train_cnn = X_train.reshape(X_train.shape[0], X_train.shape[1], X_train.shape[2], 1)\n",
        "X_test_cnn = X_test.reshape(X_test.shape[0], 28, 28, 1)"
      ],
      "execution_count": 0,
      "outputs": []
    },
    {
      "cell_type": "markdown",
      "metadata": {
        "collapsed": true,
        "id": "KA2jLW_i9BrL",
        "colab_type": "text"
      },
      "source": [
        " print X_train's dimensions"
      ]
    },
    {
      "cell_type": "code",
      "metadata": {
        "id": "IwFQB2PA9BrM",
        "colab_type": "code",
        "outputId": "3cb4636a-1c47-443a-ff15-041cc8952cac",
        "colab": {
          "base_uri": "https://localhost:8080/",
          "height": 51
        }
      },
      "source": [
        "print (X_train.shape)\n",
        "print (X_train_cnn.shape)"
      ],
      "execution_count": 0,
      "outputs": [
        {
          "output_type": "stream",
          "text": [
            "(60000, 28, 28)\n",
            "(60000, 28, 28, 1)\n"
          ],
          "name": "stdout"
        }
      ]
    },
    {
      "cell_type": "markdown",
      "metadata": {
        "id": "3AXeSRoM9BrS",
        "colab_type": "text"
      },
      "source": [
        "#### Define model architecture."
      ]
    },
    {
      "cell_type": "markdown",
      "metadata": {
        "id": "YBQ8fR_89BrT",
        "colab_type": "text"
      },
      "source": [
        "Declaring a sequential model"
      ]
    },
    {
      "cell_type": "code",
      "metadata": {
        "id": "RmJRQ0Dh9BrT",
        "colab_type": "code",
        "colab": {}
      },
      "source": [
        "cnn_model = Sequential()"
      ],
      "execution_count": 0,
      "outputs": []
    },
    {
      "cell_type": "markdown",
      "metadata": {
        "id": "e2HPc9bA9BrX",
        "colab_type": "text"
      },
      "source": [
        "Declare the input layer\n",
        "\n",
        "CNN input layer"
      ]
    },
    {
      "cell_type": "code",
      "metadata": {
        "id": "5BQA39du9BrX",
        "colab_type": "code",
        "colab": {}
      },
      "source": [
        "from keras.layers.convolutional import Conv2D"
      ],
      "execution_count": 0,
      "outputs": []
    },
    {
      "cell_type": "code",
      "metadata": {
        "id": "sPcb0Sgz9Brb",
        "colab_type": "code",
        "colab": {}
      },
      "source": [
        "cnn_model.add(Conv2D(filters = 64, kernel_size = (3, 3), strides = (1,1), activation='relu', input_shape=(28,28,1)))"
      ],
      "execution_count": 0,
      "outputs": []
    },
    {
      "cell_type": "markdown",
      "metadata": {
        "collapsed": true,
        "id": "z_rg97gu9Brf",
        "colab_type": "text"
      },
      "source": [
        "###### 2D convolution layer (e.g. spatial convolution over images).\n",
        "\n",
        "This layer creates a convolution kernel that is convolved with the layer input to produce a tensor of outputs. If use_bias is True, a bias vector is created and added to the outputs. Finally, if activation is not None, it is applied to the outputs as well.\n",
        "\n",
        "When using this layer as the first layer in a model, provide the keyword argument input_shape (tuple of integers, does not include the sample axis), e.g. input_shape=(28, 28, 1) for 28x28 gray pictures in data_format=\"channels_last\".\n",
        "\n",
        "First parameters correspond to the number of convolution filters \n",
        "\n",
        "Next 2 parameters correspond to kernal size"
      ]
    },
    {
      "cell_type": "markdown",
      "metadata": {
        "id": "JL6XZsdN9Brh",
        "colab_type": "text"
      },
      "source": [
        "###### Add more layers to our model"
      ]
    },
    {
      "cell_type": "markdown",
      "metadata": {
        "id": "_nzfdPLH9Brk",
        "colab_type": "text"
      },
      "source": [
        "![](img/max_pooling.jpg)"
      ]
    },
    {
      "cell_type": "code",
      "metadata": {
        "id": "eBoOF8_C9Brl",
        "colab_type": "code",
        "colab": {}
      },
      "source": [
        "from keras.layers.pooling import MaxPooling2D"
      ],
      "execution_count": 0,
      "outputs": []
    },
    {
      "cell_type": "code",
      "metadata": {
        "id": "_b2VMVuY9Brn",
        "colab_type": "code",
        "outputId": "33d5379a-72b5-4422-c587-2d6b48eda877",
        "colab": {
          "base_uri": "https://localhost:8080/",
          "height": 71
        }
      },
      "source": [
        "cnn_model.add(Conv2D(filters = 32, kernel_size = (3, 3), strides = (1,1), activation='relu'))\n",
        "cnn_model.add(MaxPooling2D(pool_size=(2, 2)))\n",
        "cnn_model.add(Dropout(0.25))"
      ],
      "execution_count": 0,
      "outputs": [
        {
          "output_type": "stream",
          "text": [
            "WARNING:tensorflow:From /usr/local/lib/python3.6/dist-packages/keras/backend/tensorflow_backend.py:4267: The name tf.nn.max_pool is deprecated. Please use tf.nn.max_pool2d instead.\n",
            "\n"
          ],
          "name": "stdout"
        }
      ]
    },
    {
      "cell_type": "code",
      "metadata": {
        "id": "7VJke3Mx9Brx",
        "colab_type": "code",
        "colab": {}
      },
      "source": [
        "cnn_model.add(Conv2D(filters = 64, kernel_size = (3, 3), strides = (1,1), activation='relu'))\n",
        "cnn_model.add(MaxPooling2D(pool_size=(2, 2)))\n",
        "cnn_model.add(Dropout(0.25))"
      ],
      "execution_count": 0,
      "outputs": []
    },
    {
      "cell_type": "code",
      "metadata": {
        "id": "i_zXLhCQ9Br1",
        "colab_type": "code",
        "colab": {}
      },
      "source": [
        "cnn_model.add(Conv2D(filters = 32, kernel_size = (3, 3), strides = (1,1), activation='relu'))\n",
        "cnn_model.add(MaxPooling2D(pool_size=(2, 2)))\n",
        "cnn_model.add(Dropout(0.25))"
      ],
      "execution_count": 0,
      "outputs": []
    },
    {
      "cell_type": "markdown",
      "metadata": {
        "id": "iv-UVrEC9Br3",
        "colab_type": "text"
      },
      "source": [
        "Dropout\n",
        "\n",
        "    This is a method for regularizing our model in order to prevent overfitting. \n",
        "\n",
        "MaxPooling2D \n",
        "\n",
        "    Is a way to reduce the number of parameters in our model by sliding a 2x2 pooling filter across the previous layer and taking the max of the 4 values in the 2x2 filter.\n",
        "\n",
        "So far, for model parameters, we've added two Convolution layers. To complete our model architecture, let's add a fully connected layer and then the output layer"
      ]
    },
    {
      "cell_type": "code",
      "metadata": {
        "id": "Yk_WbbqA9Br4",
        "colab_type": "code",
        "colab": {}
      },
      "source": [
        "from keras.layers.core import Flatten"
      ],
      "execution_count": 0,
      "outputs": []
    },
    {
      "cell_type": "code",
      "metadata": {
        "id": "UpnkUcR59Br7",
        "colab_type": "code",
        "colab": {}
      },
      "source": [
        "cnn_model.add(Flatten())\n",
        "cnn_model.add(BatchNormalization())\n",
        "cnn_model.add(Dense(128, activation='relu'))\n",
        "cnn_model.add(Dropout(0.5))\n",
        "cnn_model.add(BatchNormalization())\n",
        "cnn_model.add(Dense(10, activation='softmax'))"
      ],
      "execution_count": 0,
      "outputs": []
    },
    {
      "cell_type": "markdown",
      "metadata": {
        "id": "5UkOhKer9Br9",
        "colab_type": "text"
      },
      "source": [
        "For Dense layers, the first parameter is the output size of the layer. Keras automatically handles the connections between layers.\n",
        "\n",
        "Note that the final layer has an output size of 10, corresponding to the 10 classes of digits.\n",
        "\n",
        "Also note that the weights from the Convolution layers must be flattened (made 1-dimensional) before passing them to the fully connected Dense layer."
      ]
    },
    {
      "cell_type": "markdown",
      "metadata": {
        "id": "lGo_MC-Q9Br9",
        "colab_type": "text"
      },
      "source": [
        "#### Compile model"
      ]
    },
    {
      "cell_type": "markdown",
      "metadata": {
        "id": "nokMAIAI9Br-",
        "colab_type": "text"
      },
      "source": [
        "Compile the model by providing the loss function and the optimizer "
      ]
    },
    {
      "cell_type": "code",
      "metadata": {
        "id": "CyFkFpug9BsA",
        "colab_type": "code",
        "colab": {}
      },
      "source": [
        "from keras.optimizers import Adam"
      ],
      "execution_count": 0,
      "outputs": []
    },
    {
      "cell_type": "code",
      "metadata": {
        "id": "x9Gvuhr39BsE",
        "colab_type": "code",
        "colab": {}
      },
      "source": [
        "custom_adam = Adam(lr = 0.01, decay = 0.01)"
      ],
      "execution_count": 0,
      "outputs": []
    },
    {
      "cell_type": "code",
      "metadata": {
        "id": "5Sz1dLO69BsN",
        "colab_type": "code",
        "colab": {}
      },
      "source": [
        "cnn_model.compile(loss = 'categorical_crossentropy', optimizer = custom_adam, metrics = ['accuracy'])"
      ],
      "execution_count": 0,
      "outputs": []
    },
    {
      "cell_type": "code",
      "metadata": {
        "id": "mfjQNR7a9Bsa",
        "colab_type": "code",
        "outputId": "8b12d01d-f82e-481f-da07-4cc518ee9167",
        "colab": {
          "base_uri": "https://localhost:8080/",
          "height": 697
        }
      },
      "source": [
        "cnn_model.summary()"
      ],
      "execution_count": 0,
      "outputs": [
        {
          "output_type": "stream",
          "text": [
            "Model: \"sequential_2\"\n",
            "_________________________________________________________________\n",
            "Layer (type)                 Output Shape              Param #   \n",
            "=================================================================\n",
            "conv2d_1 (Conv2D)            (None, 26, 26, 64)        640       \n",
            "_________________________________________________________________\n",
            "conv2d_2 (Conv2D)            (None, 24, 24, 32)        18464     \n",
            "_________________________________________________________________\n",
            "max_pooling2d_1 (MaxPooling2 (None, 12, 12, 32)        0         \n",
            "_________________________________________________________________\n",
            "dropout_3 (Dropout)          (None, 12, 12, 32)        0         \n",
            "_________________________________________________________________\n",
            "conv2d_3 (Conv2D)            (None, 10, 10, 64)        18496     \n",
            "_________________________________________________________________\n",
            "max_pooling2d_2 (MaxPooling2 (None, 5, 5, 64)          0         \n",
            "_________________________________________________________________\n",
            "dropout_4 (Dropout)          (None, 5, 5, 64)          0         \n",
            "_________________________________________________________________\n",
            "conv2d_4 (Conv2D)            (None, 3, 3, 32)          18464     \n",
            "_________________________________________________________________\n",
            "max_pooling2d_3 (MaxPooling2 (None, 1, 1, 32)          0         \n",
            "_________________________________________________________________\n",
            "dropout_5 (Dropout)          (None, 1, 1, 32)          0         \n",
            "_________________________________________________________________\n",
            "flatten_1 (Flatten)          (None, 32)                0         \n",
            "_________________________________________________________________\n",
            "batch_normalization_3 (Batch (None, 32)                128       \n",
            "_________________________________________________________________\n",
            "dense_4 (Dense)              (None, 128)               4224      \n",
            "_________________________________________________________________\n",
            "dropout_6 (Dropout)          (None, 128)               0         \n",
            "_________________________________________________________________\n",
            "batch_normalization_4 (Batch (None, 128)               512       \n",
            "_________________________________________________________________\n",
            "dense_5 (Dense)              (None, 10)                1290      \n",
            "=================================================================\n",
            "Total params: 62,218\n",
            "Trainable params: 61,898\n",
            "Non-trainable params: 320\n",
            "_________________________________________________________________\n"
          ],
          "name": "stdout"
        }
      ]
    },
    {
      "cell_type": "markdown",
      "metadata": {
        "id": "mdS9hiCO9Bse",
        "colab_type": "text"
      },
      "source": [
        "#### Fit model on training data."
      ]
    },
    {
      "cell_type": "code",
      "metadata": {
        "scrolled": true,
        "id": "hAnwjkQF9Bsf",
        "colab_type": "code",
        "outputId": "f5b8a0cc-45cf-4753-ad1b-d0c6c698ab43",
        "colab": {
          "base_uri": "https://localhost:8080/",
          "height": 1000
        }
      },
      "source": [
        "cnn_model.fit(X_train_cnn, Y_train, batch_size = 4096, epochs = 40, validation_split = 0.2)"
      ],
      "execution_count": 0,
      "outputs": [
        {
          "output_type": "stream",
          "text": [
            "Train on 48000 samples, validate on 12000 samples\n",
            "Epoch 1/40\n",
            "48000/48000 [==============================] - 8s 172us/step - loss: 1.7949 - acc: 0.3546 - val_loss: 0.9996 - val_acc: 0.6064\n",
            "Epoch 2/40\n",
            "48000/48000 [==============================] - 1s 27us/step - loss: 1.0612 - acc: 0.5878 - val_loss: 0.9265 - val_acc: 0.6178\n",
            "Epoch 3/40\n",
            "48000/48000 [==============================] - 1s 27us/step - loss: 0.8743 - acc: 0.6745 - val_loss: 0.7194 - val_acc: 0.7274\n",
            "Epoch 4/40\n",
            "48000/48000 [==============================] - 1s 27us/step - loss: 0.7783 - acc: 0.7063 - val_loss: 0.6796 - val_acc: 0.7404\n",
            "Epoch 5/40\n",
            "48000/48000 [==============================] - 1s 27us/step - loss: 0.7153 - acc: 0.7322 - val_loss: 0.6475 - val_acc: 0.7553\n",
            "Epoch 6/40\n",
            "48000/48000 [==============================] - 1s 27us/step - loss: 0.6667 - acc: 0.7513 - val_loss: 0.6188 - val_acc: 0.7682\n",
            "Epoch 7/40\n",
            "48000/48000 [==============================] - 1s 27us/step - loss: 0.6446 - acc: 0.7569 - val_loss: 0.6789 - val_acc: 0.7547\n",
            "Epoch 8/40\n",
            "48000/48000 [==============================] - 1s 27us/step - loss: 0.6158 - acc: 0.7708 - val_loss: 0.5747 - val_acc: 0.7912\n",
            "Epoch 9/40\n",
            "48000/48000 [==============================] - 1s 27us/step - loss: 0.5923 - acc: 0.7798 - val_loss: 0.5948 - val_acc: 0.7888\n",
            "Epoch 10/40\n",
            "48000/48000 [==============================] - 1s 27us/step - loss: 0.5758 - acc: 0.7859 - val_loss: 0.6630 - val_acc: 0.7564\n",
            "Epoch 11/40\n",
            "48000/48000 [==============================] - 1s 27us/step - loss: 0.5615 - acc: 0.7937 - val_loss: 0.6693 - val_acc: 0.7533\n",
            "Epoch 12/40\n",
            "48000/48000 [==============================] - 1s 27us/step - loss: 0.5481 - acc: 0.7968 - val_loss: 0.5732 - val_acc: 0.7918\n",
            "Epoch 13/40\n",
            "48000/48000 [==============================] - 1s 27us/step - loss: 0.5318 - acc: 0.8062 - val_loss: 0.5918 - val_acc: 0.7998\n",
            "Epoch 14/40\n",
            "48000/48000 [==============================] - 1s 27us/step - loss: 0.5230 - acc: 0.8097 - val_loss: 0.5295 - val_acc: 0.8283\n",
            "Epoch 15/40\n",
            "48000/48000 [==============================] - 1s 27us/step - loss: 0.5112 - acc: 0.8131 - val_loss: 0.5261 - val_acc: 0.8378\n",
            "Epoch 16/40\n",
            "48000/48000 [==============================] - 1s 27us/step - loss: 0.4987 - acc: 0.8185 - val_loss: 0.5023 - val_acc: 0.8430\n",
            "Epoch 17/40\n",
            "48000/48000 [==============================] - 1s 27us/step - loss: 0.4879 - acc: 0.8237 - val_loss: 0.5059 - val_acc: 0.8419\n",
            "Epoch 18/40\n",
            "48000/48000 [==============================] - 1s 27us/step - loss: 0.4794 - acc: 0.8264 - val_loss: 0.5041 - val_acc: 0.8473\n",
            "Epoch 19/40\n",
            "48000/48000 [==============================] - 1s 27us/step - loss: 0.4818 - acc: 0.8246 - val_loss: 0.4874 - val_acc: 0.8458\n",
            "Epoch 20/40\n",
            "48000/48000 [==============================] - 1s 27us/step - loss: 0.4746 - acc: 0.8246 - val_loss: 0.4780 - val_acc: 0.8562\n",
            "Epoch 21/40\n",
            "48000/48000 [==============================] - 1s 27us/step - loss: 0.4687 - acc: 0.8300 - val_loss: 0.4871 - val_acc: 0.8526\n",
            "Epoch 22/40\n",
            "48000/48000 [==============================] - 1s 27us/step - loss: 0.4563 - acc: 0.8368 - val_loss: 0.4927 - val_acc: 0.8466\n",
            "Epoch 23/40\n",
            "48000/48000 [==============================] - 1s 27us/step - loss: 0.4550 - acc: 0.8351 - val_loss: 0.4853 - val_acc: 0.8547\n",
            "Epoch 24/40\n",
            "48000/48000 [==============================] - 1s 27us/step - loss: 0.4491 - acc: 0.8378 - val_loss: 0.4587 - val_acc: 0.8646\n",
            "Epoch 25/40\n",
            "48000/48000 [==============================] - 1s 27us/step - loss: 0.4434 - acc: 0.8407 - val_loss: 0.4711 - val_acc: 0.8638\n",
            "Epoch 26/40\n",
            "48000/48000 [==============================] - 1s 27us/step - loss: 0.4393 - acc: 0.8407 - val_loss: 0.4540 - val_acc: 0.8673\n",
            "Epoch 27/40\n",
            "48000/48000 [==============================] - 1s 27us/step - loss: 0.4348 - acc: 0.8424 - val_loss: 0.4457 - val_acc: 0.8678\n",
            "Epoch 28/40\n",
            "48000/48000 [==============================] - 1s 27us/step - loss: 0.4279 - acc: 0.8466 - val_loss: 0.4414 - val_acc: 0.8697\n",
            "Epoch 29/40\n",
            "48000/48000 [==============================] - 1s 27us/step - loss: 0.4278 - acc: 0.8480 - val_loss: 0.4153 - val_acc: 0.8722\n",
            "Epoch 30/40\n",
            "48000/48000 [==============================] - 1s 27us/step - loss: 0.4254 - acc: 0.8470 - val_loss: 0.4330 - val_acc: 0.8703\n",
            "Epoch 31/40\n",
            "48000/48000 [==============================] - 1s 27us/step - loss: 0.4232 - acc: 0.8485 - val_loss: 0.4120 - val_acc: 0.8723\n",
            "Epoch 32/40\n",
            "48000/48000 [==============================] - 1s 27us/step - loss: 0.4202 - acc: 0.8492 - val_loss: 0.3950 - val_acc: 0.8750\n",
            "Epoch 33/40\n",
            "48000/48000 [==============================] - 1s 27us/step - loss: 0.4103 - acc: 0.8533 - val_loss: 0.3891 - val_acc: 0.8789\n",
            "Epoch 34/40\n",
            "48000/48000 [==============================] - 1s 27us/step - loss: 0.4148 - acc: 0.8519 - val_loss: 0.3949 - val_acc: 0.8724\n",
            "Epoch 35/40\n",
            "48000/48000 [==============================] - 1s 27us/step - loss: 0.4090 - acc: 0.8534 - val_loss: 0.3775 - val_acc: 0.8783\n",
            "Epoch 36/40\n",
            "48000/48000 [==============================] - 1s 27us/step - loss: 0.4056 - acc: 0.8553 - val_loss: 0.3846 - val_acc: 0.8745\n",
            "Epoch 37/40\n",
            "48000/48000 [==============================] - 1s 27us/step - loss: 0.4037 - acc: 0.8550 - val_loss: 0.3725 - val_acc: 0.8766\n",
            "Epoch 38/40\n",
            "48000/48000 [==============================] - 1s 27us/step - loss: 0.4055 - acc: 0.8555 - val_loss: 0.3670 - val_acc: 0.8824\n",
            "Epoch 39/40\n",
            "48000/48000 [==============================] - 1s 27us/step - loss: 0.3987 - acc: 0.8584 - val_loss: 0.3624 - val_acc: 0.8812\n",
            "Epoch 40/40\n",
            "48000/48000 [==============================] - 1s 27us/step - loss: 0.3974 - acc: 0.8603 - val_loss: 0.3537 - val_acc: 0.8839\n"
          ],
          "name": "stdout"
        },
        {
          "output_type": "execute_result",
          "data": {
            "text/plain": [
              "<keras.callbacks.History at 0x7f3caa0f02e8>"
            ]
          },
          "metadata": {
            "tags": []
          },
          "execution_count": 40
        }
      ]
    },
    {
      "cell_type": "markdown",
      "metadata": {
        "id": "T7n44A1Y9Bsm",
        "colab_type": "text"
      },
      "source": [
        "#### Evaluate the model on test data."
      ]
    },
    {
      "cell_type": "code",
      "metadata": {
        "id": "0PBwJN6K9Bsn",
        "colab_type": "code",
        "outputId": "cea7ccc7-6d37-434c-c935-700ca50e47a4",
        "colab": {
          "base_uri": "https://localhost:8080/",
          "height": 51
        }
      },
      "source": [
        "score = cnn_model.evaluate(X_test_cnn, Y_test)\n",
        "\n",
        "print(score)"
      ],
      "execution_count": 0,
      "outputs": [
        {
          "output_type": "stream",
          "text": [
            "10000/10000 [==============================] - 1s 92us/step\n",
            "[0.36018063666820527, 0.8799]\n"
          ],
          "name": "stdout"
        }
      ]
    },
    {
      "cell_type": "markdown",
      "metadata": {
        "id": "6ps4u2L-9Bsq",
        "colab_type": "text"
      },
      "source": [
        "#### Make predictions on test data "
      ]
    },
    {
      "cell_type": "code",
      "metadata": {
        "id": "CZcz-tTc9Bsr",
        "colab_type": "code",
        "colab": {}
      },
      "source": [
        "# calculate predictions\n",
        "predictions = cnn_model.predict(X_test_cnn)"
      ],
      "execution_count": 0,
      "outputs": []
    },
    {
      "cell_type": "code",
      "metadata": {
        "id": "XVeOJhWR9Bsu",
        "colab_type": "code",
        "outputId": "2f5c1fa5-d5de-4b31-e764-5e031470b8bc",
        "colab": {
          "base_uri": "https://localhost:8080/",
          "height": 238
        }
      },
      "source": [
        "print (predictions)"
      ],
      "execution_count": 0,
      "outputs": [
        {
          "output_type": "stream",
          "text": [
            "[[3.51519302e-05 2.28195458e-05 4.39325640e-06 ... 2.02877466e-02\n",
            "  4.17247247e-05 9.71505821e-01]\n",
            " [2.11025290e-02 3.01592430e-04 7.84454286e-01 ... 1.56773567e-05\n",
            "  2.63804896e-03 1.26848490e-05]\n",
            " [1.27264602e-05 9.99860287e-01 3.48501567e-06 ... 1.95554488e-08\n",
            "  4.96183588e-07 1.96147153e-06]\n",
            " ...\n",
            " [1.00987876e-04 3.00309239e-06 8.62599700e-05 ... 1.28742293e-04\n",
            "  9.98743832e-01 3.23215409e-06]\n",
            " [2.80859258e-05 9.99690056e-01 6.29264696e-06 ... 4.66087080e-08\n",
            "  1.27220903e-06 3.05675576e-06]\n",
            " [5.96238952e-03 1.52971677e-03 4.98809991e-03 ... 1.84271276e-01\n",
            "  1.21921420e-01 1.28180217e-02]]\n"
          ],
          "name": "stdout"
        }
      ]
    },
    {
      "cell_type": "code",
      "metadata": {
        "id": "2PMx5SL09Bsv",
        "colab_type": "code",
        "colab": {}
      },
      "source": [
        "y_pred_class = cnn_model.predict_classes(X_test_cnn)"
      ],
      "execution_count": 0,
      "outputs": []
    },
    {
      "cell_type": "code",
      "metadata": {
        "id": "oVMtyvKk9Bsx",
        "colab_type": "code",
        "outputId": "4e196516-400a-4b9a-fd16-165b31fe546e",
        "colab": {
          "base_uri": "https://localhost:8080/",
          "height": 34
        }
      },
      "source": [
        "# calculate accuracy of class predictions\n",
        "from sklearn import metrics\n",
        "metrics.accuracy_score(y_test, y_pred_class)"
      ],
      "execution_count": 0,
      "outputs": [
        {
          "output_type": "execute_result",
          "data": {
            "text/plain": [
              "0.8799"
            ]
          },
          "metadata": {
            "tags": []
          },
          "execution_count": 45
        }
      ]
    },
    {
      "cell_type": "code",
      "metadata": {
        "scrolled": true,
        "id": "5R2i16TX9Bs2",
        "colab_type": "code",
        "outputId": "4f84acb8-3967-48d9-89f1-96081a77e339",
        "colab": {
          "base_uri": "https://localhost:8080/",
          "height": 187
        }
      },
      "source": [
        "# print the confusion matrix\n",
        "metrics.confusion_matrix(y_test, y_pred_class)"
      ],
      "execution_count": 0,
      "outputs": [
        {
          "output_type": "execute_result",
          "data": {
            "text/plain": [
              "array([[891,   0,  25,  19,   1,   0,  51,   0,  13,   0],\n",
              "       [  3, 966,   0,  24,   1,   0,   4,   0,   2,   0],\n",
              "       [ 14,   0, 879,   7,  46,   0,  48,   0,   6,   0],\n",
              "       [ 28,   1,  25, 894,  19,   0,  32,   0,   1,   0],\n",
              "       [  0,   0,  62,  39, 773,   0, 123,   0,   3,   0],\n",
              "       [  0,   0,   0,   2,   0, 956,   0,  23,   2,  17],\n",
              "       [206,   0, 101,  27, 103,   0, 543,   0,  20,   0],\n",
              "       [  0,   0,   0,   0,   0,  11,   0, 943,   1,  45],\n",
              "       [  1,   0,   1,   4,   1,   4,   4,   0, 985,   0],\n",
              "       [  0,   0,   0,   0,   0,   6,   0,  25,   0, 969]])"
            ]
          },
          "metadata": {
            "tags": []
          },
          "execution_count": 46
        }
      ]
    },
    {
      "cell_type": "markdown",
      "metadata": {
        "id": "JRDPIFZU9Bs5",
        "colab_type": "text"
      },
      "source": [
        "Reference: \n",
        "\n",
        "    https://keras.io/\n",
        "    https://elitedatascience.com\n",
        "    http://scikit-learn.org/stable/modules/classes.html"
      ]
    }
  ]
}